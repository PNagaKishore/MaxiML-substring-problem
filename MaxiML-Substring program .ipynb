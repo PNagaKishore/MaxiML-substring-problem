{
 "cells": [
  {
   "cell_type": "code",
   "execution_count": 7,
   "metadata": {},
   "outputs": [
    {
     "name": "stdout",
     "output_type": "stream",
     "text": [
      "abcda\n",
      "4\n"
     ]
    }
   ],
   "source": [
    "def maximumdistinctstring(string):\n",
    "    l=len(string)\n",
    "    if l==0 or l==1:\n",
    "        print(l)\n",
    "    maxchar=count(string)\n",
    "    minimum=l+1\n",
    "    a={}\n",
    "    start=0\n",
    "    a[string[start]]=1\n",
    "    for i in range(1,l):\n",
    "        if string[i] in a:\n",
    "            a[string[i]]+=1\n",
    "        else:\n",
    "            a[string[i]]=1\n",
    "        if len(a)==maxchar:\n",
    "            while start<i and a[string[start]]>1:\n",
    "                a[string[start]]-=1\n",
    "                start+=1\n",
    "            if minimum>i+1-start:\n",
    "                minimum=i+1-start\n",
    "    print(minimum)\n",
    " \n",
    "    \n",
    "def count(string):\n",
    "    s={}\n",
    "    for i in string:\n",
    "        if i in s:\n",
    "            s[i]+=1\n",
    "        else:\n",
    "            s[i]=1\n",
    "    return len(s)\n",
    "    \n",
    "string=input()\n",
    "maximumdistinctstring(string)"
   ]
  },
  {
   "cell_type": "code",
   "execution_count": null,
   "metadata": {},
   "outputs": [],
   "source": []
  },
  {
   "cell_type": "code",
   "execution_count": null,
   "metadata": {},
   "outputs": [],
   "source": []
  }
 ],
 "metadata": {
  "kernelspec": {
   "display_name": "Python 3",
   "language": "python",
   "name": "python3"
  },
  "language_info": {
   "codemirror_mode": {
    "name": "ipython",
    "version": 3
   },
   "file_extension": ".py",
   "mimetype": "text/x-python",
   "name": "python",
   "nbconvert_exporter": "python",
   "pygments_lexer": "ipython3",
   "version": "3.7.4"
  }
 },
 "nbformat": 4,
 "nbformat_minor": 2
}
